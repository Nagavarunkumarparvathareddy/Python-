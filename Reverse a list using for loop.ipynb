{
 "cells": [
  {
   "cell_type": "code",
   "execution_count": null,
   "id": "907763d6-7cd8-4e22-9a3f-ec6ca1427901",
   "metadata": {},
   "outputs": [],
   "source": [
    "lst = [10,20,30,10,20,40,20,50]\n",
    "r_list = []\n",
    "for item in lst:\n",
    "    r_list.insert(0,item)\n",
    "print(r_list)"
   ]
  }
 ],
 "metadata": {
  "kernelspec": {
   "display_name": "Python 3 (ipykernel)",
   "language": "python",
   "name": "python3"
  },
  "language_info": {
   "codemirror_mode": {
    "name": "ipython",
    "version": 3
   },
   "file_extension": ".py",
   "mimetype": "text/x-python",
   "name": "python",
   "nbconvert_exporter": "python",
   "pygments_lexer": "ipython3",
   "version": "3.12.4"
  }
 },
 "nbformat": 4,
 "nbformat_minor": 5
}
