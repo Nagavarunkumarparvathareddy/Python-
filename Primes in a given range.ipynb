{
 "cells": [
  {
   "cell_type": "code",
   "execution_count": 7,
   "id": "41b1fc77-0ac5-43fe-ad69-4441d0cd1cf3",
   "metadata": {},
   "outputs": [
    {
     "name": "stdin",
     "output_type": "stream",
     "text": [
      "Enter lower Limit number:  10\n",
      "Enter upper limit number:  20\n"
     ]
    },
    {
     "name": "stdout",
     "output_type": "stream",
     "text": [
      "11\n",
      "13\n",
      "17\n",
      "19\n"
     ]
    }
   ],
   "source": [
    "low = int(input(\"Enter lower Limit number: \"))\n",
    "high = int(input(\"Enter upper limit number: \"))\n",
    "for i in range(low,high):\n",
    "    count = 0\n",
    "    for j in range(1,i+1):\n",
    "        if i%j == 0:\n",
    "            count += 1\n",
    "    if count == 2:\n",
    "        print(i)"
   ]
  },
  {
   "cell_type": "code",
   "execution_count": null,
   "id": "dfd5ac56-5b62-4032-967f-174920bf3f5f",
   "metadata": {},
   "outputs": [],
   "source": []
  }
 ],
 "metadata": {
  "kernelspec": {
   "display_name": "Python 3 (ipykernel)",
   "language": "python",
   "name": "python3"
  },
  "language_info": {
   "codemirror_mode": {
    "name": "ipython",
    "version": 3
   },
   "file_extension": ".py",
   "mimetype": "text/x-python",
   "name": "python",
   "nbconvert_exporter": "python",
   "pygments_lexer": "ipython3",
   "version": "3.12.4"
  }
 },
 "nbformat": 4,
 "nbformat_minor": 5
}
