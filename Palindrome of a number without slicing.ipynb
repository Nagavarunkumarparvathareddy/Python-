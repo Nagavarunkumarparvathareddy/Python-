{
 "cells": [
  {
   "cell_type": "code",
   "execution_count": 5,
   "id": "d283cba7-51d8-48b7-8f0e-64ece7a1f090",
   "metadata": {},
   "outputs": [
    {
     "name": "stdin",
     "output_type": "stream",
     "text": [
      "Enter Number or string MalaYALam\n"
     ]
    },
    {
     "name": "stdout",
     "output_type": "stream",
     "text": [
      "Palindrome\n"
     ]
    }
   ],
   "source": [
    "s = input('Enter Number or string').lower()\n",
    "l = len(s)\n",
    "left = 0\n",
    "right = l-1\n",
    "flag = True\n",
    "while left < right:\n",
    "    if s[left] != s[right]:\n",
    "        flag = False\n",
    "    left += 1\n",
    "    right -= 1\n",
    "if flag == True:\n",
    "    print('Palindrome')\n",
    "else:\n",
    "    print('Not a Palindrome')"
   ]
  },
  {
   "cell_type": "code",
   "execution_count": null,
   "id": "778fe44a-c910-49d5-9212-1a79d9676b05",
   "metadata": {},
   "outputs": [],
   "source": []
  }
 ],
 "metadata": {
  "kernelspec": {
   "display_name": "Python 3 (ipykernel)",
   "language": "python",
   "name": "python3"
  },
  "language_info": {
   "codemirror_mode": {
    "name": "ipython",
    "version": 3
   },
   "file_extension": ".py",
   "mimetype": "text/x-python",
   "name": "python",
   "nbconvert_exporter": "python",
   "pygments_lexer": "ipython3",
   "version": "3.12.4"
  }
 },
 "nbformat": 4,
 "nbformat_minor": 5
}
