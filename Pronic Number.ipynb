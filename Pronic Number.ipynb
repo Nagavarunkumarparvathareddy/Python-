{
 "cells": [
  {
   "cell_type": "code",
   "execution_count": 18,
   "id": "af30f8aa-5cb6-4c8f-9700-a43d398b46d6",
   "metadata": {},
   "outputs": [
    {
     "name": "stdout",
     "output_type": "stream",
     "text": [
      "\n",
      "Pronic Number = A number is said to be pronic if number is obtained as product of 2 consecutive numbers\n",
      "EXAMPLE : 2*3 =6\n",
      "          4*5 =10\n",
      "          5*6 =30 \n",
      "\n"
     ]
    },
    {
     "name": "stdin",
     "output_type": "stream",
     "text": [
      " 6\n"
     ]
    },
    {
     "name": "stdout",
     "output_type": "stream",
     "text": [
      "Pronic Number 2 * 3 = 6\n"
     ]
    }
   ],
   "source": [
    "print(\"\"\"\n",
    "Pronic Number = A number is said to be pronic if number is obtained as product of 2 consecutive numbers\n",
    "EXAMPLE : 2*3 =6\n",
    "          4*5 =10\n",
    "          5*6 =30 \n",
    "\"\"\")\n",
    "n = int(input())\n",
    "flag = 0\n",
    "for i in range(1,n+1):\n",
    "    if (i*(i+1)==n):\n",
    "        print(\"Pronic Number\",i,\"*\",i+1,\"=\",n)\n",
    "        flag = 1\n",
    "if flag == 0:\n",
    "    print(\"Not a Pronic Number\")\n",
    "    "
   ]
  },
  {
   "cell_type": "code",
   "execution_count": null,
   "id": "07e803c7-d11a-4fb9-a4ff-f3ced9854a47",
   "metadata": {},
   "outputs": [],
   "source": []
  }
 ],
 "metadata": {
  "kernelspec": {
   "display_name": "Python 3 (ipykernel)",
   "language": "python",
   "name": "python3"
  },
  "language_info": {
   "codemirror_mode": {
    "name": "ipython",
    "version": 3
   },
   "file_extension": ".py",
   "mimetype": "text/x-python",
   "name": "python",
   "nbconvert_exporter": "python",
   "pygments_lexer": "ipython3",
   "version": "3.12.4"
  }
 },
 "nbformat": 4,
 "nbformat_minor": 5
}
