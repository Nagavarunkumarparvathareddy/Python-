{
 "cells": [
  {
   "cell_type": "code",
   "execution_count": 8,
   "id": "9dd02df4-d2eb-49c5-9fff-15c4f3bca14a",
   "metadata": {},
   "outputs": [
    {
     "name": "stdin",
     "output_type": "stream",
     "text": [
      "Enter no of inputs : 4\n",
      "Enter input 1\n",
      "Enter input 2\n",
      "Enter input 2\n",
      "Enter input 2\n"
     ]
    },
    {
     "name": "stdout",
     "output_type": "stream",
     "text": [
      "1.75\n"
     ]
    }
   ],
   "source": [
    "n=int(input(\"Enter no of inputs :\"))\n",
    "sum=0\n",
    "for i in range(1,n+1):\n",
    "    m=int(input(\"Enter input\"))\n",
    "    sum+=m\n",
    "print(sum/n)\n",
    "    "
   ]
  },
  {
   "cell_type": "code",
   "execution_count": null,
   "id": "5503c3fc-d2f3-43da-848e-57148b89ef6b",
   "metadata": {},
   "outputs": [],
   "source": []
  }
 ],
 "metadata": {
  "kernelspec": {
   "display_name": "Python 3 (ipykernel)",
   "language": "python",
   "name": "python3"
  },
  "language_info": {
   "codemirror_mode": {
    "name": "ipython",
    "version": 3
   },
   "file_extension": ".py",
   "mimetype": "text/x-python",
   "name": "python",
   "nbconvert_exporter": "python",
   "pygments_lexer": "ipython3",
   "version": "3.12.4"
  }
 },
 "nbformat": 4,
 "nbformat_minor": 5
}
