{
 "cells": [
  {
   "cell_type": "code",
   "execution_count": 5,
   "id": "057625fa-3721-4131-a596-be52706781ca",
   "metadata": {},
   "outputs": [
    {
     "name": "stdout",
     "output_type": "stream",
     "text": [
      "\n",
      "Perfect Number : A Number is said to be perfect Number if Sum of all the Proper Divisors of the number == number\n",
      "                Example: 6\n",
      "                         Factors(1,2,3)\n",
      "                Example : 28\n",
      "                         Factors(1,2,4,7,14)\n",
      "======================================================================================================================\n",
      "\n"
     ]
    },
    {
     "name": "stdin",
     "output_type": "stream",
     "text": [
      "Enter Input:  8128\n"
     ]
    },
    {
     "name": "stdout",
     "output_type": "stream",
     "text": [
      "Strong Number\n"
     ]
    }
   ],
   "source": [
    "print(\"\"\"\n",
    "Perfect Number : A Number is said to be perfect Number if Sum of all the Proper Divisors of the Number == Number\n",
    "                Example: 6\n",
    "                         Factors(1,2,3)\n",
    "                Example : 28\n",
    "                         Factors(1,2,4,7,14)\n",
    "======================================================================================================================\n",
    "\"\"\")\n",
    "n = int(input(\"Enter Input: \"))\n",
    "sum = 0\n",
    "for i in range(1,n):\n",
    "    if n % i == 0:\n",
    "        sum += i\n",
    "if sum == n:\n",
    "    print(\"Strong Number\")\n",
    "else:\n",
    "    print(\"Not a strong Number\")"
   ]
  },
  {
   "cell_type": "code",
   "execution_count": null,
   "id": "ac08daa8-b7ce-4c0c-b482-47811123779f",
   "metadata": {},
   "outputs": [],
   "source": []
  }
 ],
 "metadata": {
  "kernelspec": {
   "display_name": "Python 3 (ipykernel)",
   "language": "python",
   "name": "python3"
  },
  "language_info": {
   "codemirror_mode": {
    "name": "ipython",
    "version": 3
   },
   "file_extension": ".py",
   "mimetype": "text/x-python",
   "name": "python",
   "nbconvert_exporter": "python",
   "pygments_lexer": "ipython3",
   "version": "3.12.4"
  }
 },
 "nbformat": 4,
 "nbformat_minor": 5
}
