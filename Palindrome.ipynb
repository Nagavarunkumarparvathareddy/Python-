{
 "cells": [
  {
   "cell_type": "code",
   "execution_count": null,
   "id": "3bd489cf-15ea-402a-85d6-1cb842db943c",
   "metadata": {},
   "outputs": [],
   "source": []
  }
 ],
 "metadata": {
  "kernelspec": {
   "display_name": "",
   "name": ""
  },
  "language_info": {
   "name": ""
  }
 },
 "nbformat": 4,
 "nbformat_minor": 5
}
