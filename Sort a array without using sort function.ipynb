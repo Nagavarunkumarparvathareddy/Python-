{
 "cells": [
  {
   "cell_type": "code",
   "execution_count": 5,
   "id": "717a05fd-33a5-49ca-9119-1c5c0ac7ee3c",
   "metadata": {},
   "outputs": [
    {
     "name": "stdin",
     "output_type": "stream",
     "text": [
      " -1 -2 5 8 7 6 9 1 \n"
     ]
    },
    {
     "name": "stdout",
     "output_type": "stream",
     "text": [
      "[-2, -1, 1, 5, 6, 7, 8, 9]\n"
     ]
    }
   ],
   "source": [
    "arr= []\n",
    "arr = list(map(int,input().split()))\n",
    "l = len(arr)\n",
    "for i in range(l):\n",
    "    for j in range(i+1,l):\n",
    "        if arr[i] > arr[j]:\n",
    "            arr[i],arr[j] = arr[j],arr[i]\n",
    "print(arr)"
   ]
  },
  {
   "cell_type": "code",
   "execution_count": null,
   "id": "21d8565f-9e4a-4b80-82b8-2725e423f393",
   "metadata": {},
   "outputs": [],
   "source": []
  }
 ],
 "metadata": {
  "kernelspec": {
   "display_name": "Python 3 (ipykernel)",
   "language": "python",
   "name": "python3"
  },
  "language_info": {
   "codemirror_mode": {
    "name": "ipython",
    "version": 3
   },
   "file_extension": ".py",
   "mimetype": "text/x-python",
   "name": "python",
   "nbconvert_exporter": "python",
   "pygments_lexer": "ipython3",
   "version": "3.12.4"
  }
 },
 "nbformat": 4,
 "nbformat_minor": 5
}
