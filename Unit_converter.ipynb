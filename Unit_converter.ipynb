{
 "cells": [
  {
   "cell_type": "code",
   "execution_count": 17,
   "id": "61526813-1727-4f97-8f86-4f376a7f3f88",
   "metadata": {},
   "outputs": [
    {
     "name": "stdout",
     "output_type": "stream",
     "text": [
      "Hello user! welcome to unit converter \n",
      "From the drop down menu please select your conversion factor number \n",
      "1.Area(Acre to Hectare)\n",
      "2.Energy(Joule to Watthour)\n",
      "3.Length(Meter to Centimeter)\n"
     ]
    },
    {
     "name": "stdin",
     "output_type": "stream",
     "text": [
      " 3\n",
      "Enter again 3\n",
      "Enter No of meters 100\n"
     ]
    },
    {
     "name": "stdout",
     "output_type": "stream",
     "text": [
      "10000\n"
     ]
    }
   ],
   "source": [
    "\"\"\"\n",
    "Unit Converter: Write a program that converts a value between different units (e.g., meters to feet, Celsius to Fahrenheit)\n",
    "based on the conversion factor entered by the user.\n",
    "\"\"\"\n",
    "print(\"Hello user! welcome to unit converter \\nFrom the drop down menu please select your conversion factor number \\n1.Area(Acre to Hectare)\\n2.Energy(Joule to Watthour)\\n3.Length(Meter to Centimeter)\")\n",
    "n=int(input())\n",
    "def unitconverter(number):\n",
    "    match number:\n",
    "       case 1:\n",
    "           n1=int(input(\"Enter No of Acers\"))\n",
    "           print(n1/2.471)\n",
    "       case 2:\n",
    "           n2=int(input(\"Enter no of joules\"))\n",
    "           print(n2/3600)\n",
    "       case 3:\n",
    "           n3=int(input(\"Enter No of meters\"))  \n",
    "           print(n3*100)\n",
    "       case _:\n",
    "           print(\"Invalid option selected\")\n",
    "            \n",
    "number = int(input(\"Enter again\"))\n",
    "unitconverter(number)\n",
    "           "
   ]
  },
  {
   "cell_type": "code",
   "execution_count": null,
   "id": "2fb0261f-6901-4a6a-bce0-6cdca7aa0f24",
   "metadata": {},
   "outputs": [],
   "source": []
  }
 ],
 "metadata": {
  "kernelspec": {
   "display_name": "Python 3 (ipykernel)",
   "language": "python",
   "name": "python3"
  },
  "language_info": {
   "codemirror_mode": {
    "name": "ipython",
    "version": 3
   },
   "file_extension": ".py",
   "mimetype": "text/x-python",
   "name": "python",
   "nbconvert_exporter": "python",
   "pygments_lexer": "ipython3",
   "version": "3.12.4"
  }
 },
 "nbformat": 4,
 "nbformat_minor": 5
}
