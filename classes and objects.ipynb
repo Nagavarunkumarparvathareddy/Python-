{
 "cells": [
  {
   "cell_type": "code",
   "execution_count": 3,
   "id": "059b0cd4-d543-4944-bbfb-f47557bd8f89",
   "metadata": {},
   "outputs": [
    {
     "name": "stdin",
     "output_type": "stream",
     "text": [
      "Enter your course name:  1\n",
      "Enter your city name:  2\n",
      "enter your no:  3\n",
      "Enter your name 5\n",
      "enter your marks 5\n"
     ]
    },
    {
     "name": "stdout",
     "output_type": "stream",
     "text": [
      "no---->3\n",
      "name---->5\n",
      "marks---->5\n",
      "1\n",
      "2\n"
     ]
    },
    {
     "name": "stdin",
     "output_type": "stream",
     "text": [
      "enter your no:  1\n",
      "Enter your name 2\n",
      "enter your marks 3\n"
     ]
    },
    {
     "name": "stdout",
     "output_type": "stream",
     "text": [
      "no---->1\n",
      "name---->2\n",
      "marks---->3\n",
      "1\n",
      "2\n",
      "==================================================\n",
      "{'no': 3, 'name': '5', 'marks': 5}\n"
     ]
    }
   ],
   "source": [
    "class student:\n",
    "    course = input('Enter your course name: ')\n",
    "    city = input('Enter your city name: ')\n",
    "s1=student()\n",
    "s1.no=int(input('enter your no: '))\n",
    "s1.name=input(('Enter your name'))\n",
    "s1.marks=int(input('enter your marks'))\n",
    "for i,v in s1.__dict__.items():\n",
    "    print(f'{i}---->{v}')\n",
    "print(student.course)\n",
    "print(s1.city)\n",
    "s2=student()\n",
    "s2.no=int(input('enter your no: '))\n",
    "s2.name=input(('Enter your name'))\n",
    "s2.marks=int(input('enter your marks'))\n",
    "for i,v in s2.__dict__.items():\n",
    "    print(f'{i}---->{v}')\n",
    "print(student.course)\n",
    "print(s2.city)\n",
    "print('='*50)\n",
    "print(s1.__dict__)"
   ]
  },
  {
   "cell_type": "code",
   "execution_count": 9,
   "id": "d367336a-26cb-47c0-bf54-00b7959e5013",
   "metadata": {},
   "outputs": [
    {
     "name": "stdin",
     "output_type": "stream",
     "text": [
      "Number 1:  10\n",
      "Number 2:  3\n"
     ]
    },
    {
     "name": "stdout",
     "output_type": "stream",
     "text": [
      "16\n"
     ]
    }
   ],
   "source": [
    "# addition of 2 numbers using oops\n",
    "class addition:\n",
    "    a= int(input(\"Number 1: \"))\n",
    "    b=int(input(\"Number 2: \"))\n",
    "obj1=addition()\n",
    "print(addition.a+addition.b+obj1.b)"
   ]
  },
  {
   "cell_type": "code",
   "execution_count": 11,
   "id": "0918a173-a239-49dc-94c0-e406748644d3",
   "metadata": {},
   "outputs": [
    {
     "name": "stdin",
     "output_type": "stream",
     "text": [
      " varun\n",
      " 305\n",
      " varun kumar\n",
      " 205\n"
     ]
    },
    {
     "name": "stdout",
     "output_type": "stream",
     "text": [
      "student name is varun\n",
      "student name is 305\n",
      "student name is varun kumar\n",
      "student name is 205\n"
     ]
    }
   ],
   "source": [
    "# instance level method\n",
    "class student:\n",
    "    def getstddata(self):\n",
    "        self.name = input()\n",
    "        self.no = input()\n",
    "    def writestddata(self):\n",
    "        print(f'student name is {self.name}')\n",
    "        print(f'student name is {self.no}')\n",
    "s1 = student()\n",
    "s2 = student()\n",
    "s1.getstddata()\n",
    "s2.getstddata()\n",
    "s1.writestddata()\n",
    "s2.writestddata()"
   ]
  },
  {
   "cell_type": "code",
   "execution_count": 21,
   "id": "d1cf7762-4728-4d21-8c01-802bd6134081",
   "metadata": {},
   "outputs": [
    {
     "name": "stdin",
     "output_type": "stream",
     "text": [
      "Enter your name:  Varun\n",
      "Enter your Age: 21\n",
      "Enter your Experience : 0\n"
     ]
    },
    {
     "name": "stdout",
     "output_type": "stream",
     "text": [
      "Emp Name :  Varun\n",
      "Emp Age :  21\n",
      "Emp Experience :  0\n",
      "Company Name : TCS\n",
      "Company Location : HYD\n"
     ]
    },
    {
     "name": "stdin",
     "output_type": "stream",
     "text": [
      "Enter your name:  Nani\n",
      "Enter your Age: 21\n",
      "Enter your Experience : 0\n"
     ]
    },
    {
     "name": "stdout",
     "output_type": "stream",
     "text": [
      "Emp Name :  Nani\n",
      "Emp Age :  21\n",
      "Emp Experience :  0\n",
      "Company Name : TCS\n",
      "Company Location : HYD\n"
     ]
    }
   ],
   "source": [
    "# class level methods\n",
    "class Employee:\n",
    "    @classmethod\n",
    "    def companydetails(cls):\n",
    "        Employee.company = 'TCS'\n",
    "        Employee.location = 'HYD'\n",
    "    def readdata(self):\n",
    "        self.name = input('Enter your name: ')\n",
    "        self.age = int(input('Enter your Age:'))\n",
    "        self.experience= int(input('Enter your Experience :'))\n",
    "    def displaydata(self):\n",
    "        self.companydetails()\n",
    "        print('Emp Name : ',self.name)\n",
    "        print('Emp Age : ',self.age)\n",
    "        print('Emp Experience : ',self.experience)\n",
    "        print('Company Name :',Employee.company)\n",
    "        print('Company Location :',Employee.location)\n",
    "e1 = Employee()\n",
    "e1.readdata()\n",
    "e1.displaydata()\n",
    "e2 = Employee()\n",
    "e2.readdata()\n",
    "e2.displaydata()"
   ]
  },
  {
   "cell_type": "code",
   "execution_count": null,
   "id": "61305313-5021-4781-ba42-daddc9f68d89",
   "metadata": {},
   "outputs": [],
   "source": [
    "# static class method\n"
   ]
  },
  {
   "cell_type": "code",
   "execution_count": 23,
   "id": "ab210bbc-7f4e-450d-9163-fa320918e72c",
   "metadata": {},
   "outputs": [
    {
     "name": "stdin",
     "output_type": "stream",
     "text": [
      "Enter your name :  Varun\n",
      "Enter your age:  21\n",
      "Enter your location:  Hyd\n"
     ]
    },
    {
     "name": "stdout",
     "output_type": "stream",
     "text": [
      "{'name': 'Varun', 'age': 21, 'location': 'Hyd'}\n"
     ]
    },
    {
     "name": "stdin",
     "output_type": "stream",
     "text": [
      "Enter your name :  Komal\n",
      "Enter your age:  14\n",
      "Enter your location:  GNT\n"
     ]
    },
    {
     "name": "stdout",
     "output_type": "stream",
     "text": [
      "{'name': 'Komal', 'age': 14, 'location': 'GNT'}\n"
     ]
    }
   ],
   "source": [
    "# Default constructor\n",
    "class student:\n",
    "    def __init__(self):\n",
    "        self.name = input('Enter your name : ')\n",
    "        self.age = int(input('Enter your age: '))\n",
    "        self.location = input('Enter your location: ')\n",
    "\n",
    "s1=student()\n",
    "print(s1.__dict__)\n",
    "s2=student()\n",
    "print(s2.__dict__)"
   ]
  },
  {
   "cell_type": "code",
   "execution_count": 27,
   "id": "dbe4e16c-83b7-4cb5-bd26-171b27acf6f3",
   "metadata": {},
   "outputs": [
    {
     "name": "stdin",
     "output_type": "stream",
     "text": [
      "Enter your name :  PARVATHAREDDY NAGAVARUN KUMAR\n",
      "Enter your age:  21\n",
      "Enter your location:  che\n"
     ]
    },
    {
     "name": "stdout",
     "output_type": "stream",
     "text": [
      "{'name': 'PARVATHAREDDY NAGAVARUN KUMAR', 'age': 21, 'location': 'che'}\n"
     ]
    },
    {
     "name": "stdin",
     "output_type": "stream",
     "text": [
      "Enter your name :  PARVATHAREDDY NAGAVARUN KUMAR\n",
      "Enter your age:  21\n",
      "Enter your location:  1111\n"
     ]
    },
    {
     "name": "stdout",
     "output_type": "stream",
     "text": [
      "{'name': 'PARVATHAREDDY NAGAVARUN KUMAR', 'age': 21, 'location': '1111'}\n"
     ]
    }
   ],
   "source": [
    "# Parametrized constructor\n",
    "class student:\n",
    "    def __init__(self,name,age,location):\n",
    "        self.name = input('Enter your name : ')\n",
    "        self.age = int(input('Enter your age: '))\n",
    "        self.location = input('Enter your location: ')\n",
    "s1=student('Varun',21,\"HYD\")\n",
    "print(s1.__dict__)\n",
    "s2=student(' ',100,' ')\n",
    "print(s2.__dict__)      "
   ]
  },
  {
   "cell_type": "code",
   "execution_count": 34,
   "id": "ff76edc0-5dd2-474f-9d75-fa85805a4e38",
   "metadata": {},
   "outputs": [
    {
     "name": "stdout",
     "output_type": "stream",
     "text": [
      "140 20\n",
      "10 20\n",
      "110 220\n"
     ]
    }
   ],
   "source": [
    "# cant define 2 constructors in same class\n",
    "# to use both default and parametrized constructors at a same time\n",
    "class student:\n",
    "    def __init__(self,a=10,b=20):\n",
    "        self.a = a\n",
    "        self.b = b\n",
    "        print(self.a,self.b) \n",
    "s1 = student(a=140)\n",
    "s2 = student()\n",
    "s3 = student(a=110,b=220)"
   ]
  },
  {
   "cell_type": "code",
   "execution_count": 35,
   "id": "e12dadc7-12d8-4301-9bad-e87c01feb8e1",
   "metadata": {},
   "outputs": [
    {
     "ename": "NameError",
     "evalue": "name '___________________________________' is not defined",
     "output_type": "error",
     "traceback": [
      "\u001b[1;31m---------------------------------------------------------------------------\u001b[0m",
      "\u001b[1;31mNameError\u001b[0m                                 Traceback (most recent call last)",
      "Cell \u001b[1;32mIn[35], line 2\u001b[0m\n\u001b[0;32m      1\u001b[0m \u001b[38;5;66;03m# encapsulation\u001b[39;00m\n\u001b[1;32m----> 2\u001b[0m \u001b[43m___________________________________\u001b[49m\n\u001b[0;32m      3\u001b[0m Account1\u001b[38;5;241m.\u001b[39mpy\n\u001b[0;32m      4\u001b[0m _____________________________________\n",
      "\u001b[1;31mNameError\u001b[0m: name '___________________________________' is not defined"
     ]
    }
   ],
   "source": [
    "# encapsulation\n",
    "___________________________________\n",
    "Account1.py\n",
    "_____________________________________\n",
    "class Account:\n",
    "    def __init__(self):\n",
    "        self.accno = 9990887\n",
    "        self.accname = 'Varun'\n",
    "        self.pinno = 8985\n",
    "        self.branch = 'Hyd'\n",
    "        \n",
    "from Account1 import account\n",
    "ac = account()\n",
    "print(ac.accno)\n",
    "print(ac.accname)\n",
    "print(ac.pinno)\n",
    "print(ac.branch)"
   ]
  },
  {
   "cell_type": "code",
   "execution_count": null,
   "id": "653302b6-afca-48ee-bc9c-8efe577af3a3",
   "metadata": {},
   "outputs": [],
   "source": [
    "Data Encapsulation and data abstraction examples in python\n",
    "ChatGPT said:\n",
    "ChatGPT\n",
    "Data Encapsulation in Python\n",
    "Data Encapsulation refers to the bundling of data (variables) and methods (functions) that operate on the data into a single unit or class. It restricts direct access to some of an object's components, which is a way of preventing accidental interference and misuse of the methods and data.\n",
    "\n",
    "Example of Data Encapsulation:\n",
    "python\n",
    "Copy code\n",
    "class Employee:\n",
    "    def __init__(self, name, salary):\n",
    "        self.name = name       # Public attribute\n",
    "        self.__salary = salary # Private attribute (encapsulated)\n",
    "\n",
    "    def get_salary(self):      # Public method to access private data\n",
    "        return self.__salary\n",
    "\n",
    "    def set_salary(self, salary): # Public method to modify private data\n",
    "        if salary > 0:\n",
    "            self.__salary = salary\n",
    "        else:\n",
    "            print(\"Salary must be positive\")\n",
    "\n",
    "# Create an Employee object\n",
    "emp = Employee(\"John Doe\", 50000)\n",
    "\n",
    "# Accessing public attribute\n",
    "print(emp.name)  # Output: John Doe\n",
    "\n",
    "# Accessing private attribute directly will raise an AttributeError\n",
    "# print(emp.__salary)  # Uncommenting this will cause an error\n",
    "\n",
    "# Accessing and modifying private data via public methods\n",
    "print(emp.get_salary())  # Output: 50000\n",
    "emp.set_salary(60000)\n",
    "print(emp.get_salary())  # Output: 60000"
   ]
  },
  {
   "cell_type": "code",
   "execution_count": 41,
   "id": "022caf00-4f2b-4d4a-b363-e51c9b106a9d",
   "metadata": {},
   "outputs": [
    {
     "name": "stdout",
     "output_type": "stream",
     "text": [
      "Rectangle Area: 20\n",
      "Rectangle Perimeter: 18\n",
      "Circle Area: 153.93791\n",
      "Circle Perimeter: 43.98226\n"
     ]
    }
   ],
   "source": [
    "from abc import ABC, abstractmethod\n",
    "\n",
    "class Shape(ABC):\n",
    "    @abstractmethod\n",
    "    def area(self):\n",
    "        pass\n",
    "    @abstractmethod\n",
    "    def perimeter(self):\n",
    "        pass\n",
    "\n",
    "class Rectangle(Shape):\n",
    "    def __init__(self, width, height):\n",
    "        self.width = width\n",
    "        self.height = height\n",
    "\n",
    "    def area(self):\n",
    "        return self.width * self.height\n",
    "\n",
    "    def perimeter(self):\n",
    "        return 2 * (self.width + self.height)\n",
    "\n",
    "class Circle(Shape):\n",
    "    def __init__(self, radius):\n",
    "        self.radius = radius\n",
    "\n",
    "    def area(self):\n",
    "        return 3.14159 * self.radius * self.radius\n",
    "\n",
    "    def perimeter(self):\n",
    "        return 2 * 3.14159 * self.radius\n",
    "\n",
    "# Creating objects of Rectangle and Circle\n",
    "rect = Rectangle(4, 5)\n",
    "circ = Circle(7)\n",
    "\n",
    "print(\"Rectangle Area:\", rect.area())         # Output: Rectangle Area: 20\n",
    "print(\"Rectangle Perimeter:\", rect.perimeter()) # Output: Rectangle Perimeter: 18\n",
    "print(rect.)\n",
    "print(\"Circle Area:\", circ.area())            # Output: Circle Area: 153.93791\n",
    "print(\"Circle Perimeter:\", circ.perimeter())    # Output: Circle Perimeter: 43.98226\n",
    "# here in this code we are hiding the implementation of area and perimrter we are just showing them"
   ]
  },
  {
   "cell_type": "code",
   "execution_count": null,
   "id": "8b8f3fd0-a383-4634-8948-95f3bbc64513",
   "metadata": {},
   "outputs": [],
   "source": [
    "Data Abstraction in Python\n",
    "Data Abstraction refers to the concept of hiding the complex \n",
    "implementation details and showing only the essential features of an object. \n",
    "This is usually achieved by using abstract classes or methods that define an interface without providing the complete implementation.\n",
    "\n",
    "In this example:\n",
    "\n",
    "The Shape class is an abstract base class that defines the area and perimeter methods as abstract methods.\n",
    "The Rectangle and Circle classes inherit from Shape and provide concrete implementations of the area and perimeter methods.\n",
    "This abstraction hides the complexity of how the area and perimeter are calculated for different shapes. \n",
    "The user only needs to know how to use these methods without worrying about their implementation details."
   ]
  },
  {
   "cell_type": "code",
   "execution_count": 42,
   "id": "c5c590c2-dfdb-4b1c-91eb-bc7ea8832037",
   "metadata": {},
   "outputs": [
    {
     "name": "stdout",
     "output_type": "stream",
     "text": [
      "Display 1\n",
      "Display 2\n"
     ]
    }
   ],
   "source": [
    "# single inheritence\n",
    "class c1:\n",
    "    def disp1(self):\n",
    "        print('Display 1')\n",
    "    def disp2(self):\n",
    "        print('Display 2')\n",
    "o = c1()\n",
    "o.disp1()\n",
    "o.disp2()"
   ]
  },
  {
   "cell_type": "code",
   "execution_count": 44,
   "id": "d6d2d37d-038c-4f07-b1a9-3a4daa6bbf34",
   "metadata": {},
   "outputs": [
    {
     "name": "stdout",
     "output_type": "stream",
     "text": [
      "Display 1\n",
      "Display 2\n"
     ]
    }
   ],
   "source": [
    "# single inheritence\n",
    "class c1:\n",
    "    def disp1(self):\n",
    "        print('Display 1')\n",
    "    def disp2(self):\n",
    "        self.disp1()\n",
    "        print('Display 2')\n",
    "o = c1()\n",
    "o.disp2()"
   ]
  },
  {
   "cell_type": "code",
   "execution_count": 55,
   "id": "8cdec7fe-dfc0-4008-9fe1-73a7cb0c6f34",
   "metadata": {},
   "outputs": [
    {
     "name": "stdout",
     "output_type": "stream",
     "text": [
      "60\n"
     ]
    }
   ],
   "source": [
    "# multiline inheritence\n",
    "class A:\n",
    "    def geta(self):\n",
    "        self.a = 10\n",
    "class B(A):\n",
    "    def getb(self):\n",
    "        self.b = 20\n",
    "class c(B):\n",
    "    def getc(self):\n",
    "        self.c = 30\n",
    "    def operation(self):\n",
    "        self.d = self.a+self.b+self.c\n",
    "        print(self.d)\n",
    "o3 = c()\n",
    "o3.getc()\n",
    "o3.geta()\n",
    "o3.getb()\n",
    "o3.operation()"
   ]
  },
  {
   "cell_type": "code",
   "execution_count": 56,
   "id": "d4959d88-2cd0-4443-b442-dec5f1528e94",
   "metadata": {},
   "outputs": [
    {
     "name": "stdout",
     "output_type": "stream",
     "text": [
      "60\n"
     ]
    }
   ],
   "source": [
    "# multiline inheritence\n",
    "class A:\n",
    "    def geta(self):\n",
    "        self.a = 10\n",
    "class B(A):\n",
    "    def getb(self):\n",
    "        self.b = 20\n",
    "class c(B):\n",
    "    def getc(self):\n",
    "        self.c = 30\n",
    "    def operation(self):\n",
    "        self.geta()\n",
    "        self.getb()\n",
    "        self.getc()\n",
    "        self.d = self.a+self.b+self.c\n",
    "        print(self.d)\n",
    "o3 = c()\n",
    "o3.operation()\n",
    "'''\n",
    "o3.geta() initializes a with the value 10.\n",
    "o3.getb() initializes b with the value 20.\n",
    "o3.getc() initializes c with the value 30.\n",
    "'''"
   ]
  },
  {
   "cell_type": "code",
   "execution_count": 57,
   "id": "c4ff6835-9161-4d3f-9010-a1ab997ee5d6",
   "metadata": {},
   "outputs": [
    {
     "name": "stdout",
     "output_type": "stream",
     "text": [
      "60\n"
     ]
    }
   ],
   "source": [
    "# multiple inheritence\n",
    "# multiline inheritence\n",
    "class A:\n",
    "    def geta(self):\n",
    "        self.a = 10\n",
    "class B():\n",
    "    def getb(self):\n",
    "        self.b = 20\n",
    "class c(A,B):\n",
    "    def getc(self):\n",
    "        self.c = 30\n",
    "    def operation(self):\n",
    "        self.geta()\n",
    "        self.getb()\n",
    "        self.getc()\n",
    "        self.d = self.a+self.b+self.c\n",
    "        print(self.d)\n",
    "o3 = c()\n",
    "o3.operation()\n",
    "'''\n",
    "In this code, self.geta(), self.getb(), and self.getc() are method calls within the operation method of class c.\n",
    "These calls ensure that the necessary attributes (a, b, and c) are initialized before they are used in the operation method.\n",
    "'''"
   ]
  },
  {
   "cell_type": "code",
   "execution_count": null,
   "id": "ea8149a3-b003-4c53-bc31-e2da6cbf8954",
   "metadata": {},
   "outputs": [],
   "source": []
  }
 ],
 "metadata": {
  "kernelspec": {
   "display_name": "Python 3 (ipykernel)",
   "language": "python",
   "name": "python3"
  },
  "language_info": {
   "codemirror_mode": {
    "name": "ipython",
    "version": 3
   },
   "file_extension": ".py",
   "mimetype": "text/x-python",
   "name": "python",
   "nbconvert_exporter": "python",
   "pygments_lexer": "ipython3",
   "version": "3.12.4"
  }
 },
 "nbformat": 4,
 "nbformat_minor": 5
}
