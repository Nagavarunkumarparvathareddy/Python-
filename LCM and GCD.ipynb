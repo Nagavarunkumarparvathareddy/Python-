{
 "cells": [
  {
   "cell_type": "code",
   "execution_count": 18,
   "id": "425c15ad-355a-49fd-8053-29c1caff2d54",
   "metadata": {},
   "outputs": [
    {
     "name": "stdin",
     "output_type": "stream",
     "text": [
      "Enter the number n1:  12\n",
      "Enter the number n2:  144\n"
     ]
    },
    {
     "name": "stdout",
     "output_type": "stream",
     "text": [
      "The GCD of n1,n2 is: 12\n",
      "The LCM of n1,n2 is: 144\n"
     ]
    }
   ],
   "source": [
    "import math\n",
    "n1=int(input(\"Enter the number n1: \"))\n",
    "n2=int(input(\"Enter the number n2: \"))\n",
    "list =[]\n",
    "gcd =[]\n",
    "list.append(n1)\n",
    "list.append(n2)\n",
    "list.sort()\n",
    "min =list[0]\n",
    "max =list[-1]\n",
    "for i in range(1,max+1):\n",
    "    if i*n2 % n1 == 0:\n",
    "        lcm = i*n2\n",
    "        break\n",
    "for i in range(1,min+1):\n",
    "    if min % i == 0 and max % i==0:\n",
    "        gcd.append(i)\n",
    "Gcd =gcd[-1]\n",
    "print(\"The GCD of n1,n2 is:\",Gcd)\n",
    "print(\"The LCM of n1,n2 is:\",lcm)\n"
   ]
  },
  {
   "cell_type": "code",
   "execution_count": null,
   "id": "e9e41833-5f37-48de-a2ac-663a738bd447",
   "metadata": {},
   "outputs": [],
   "source": []
  }
 ],
 "metadata": {
  "kernelspec": {
   "display_name": "Python 3 (ipykernel)",
   "language": "python",
   "name": "python3"
  },
  "language_info": {
   "codemirror_mode": {
    "name": "ipython",
    "version": 3
   },
   "file_extension": ".py",
   "mimetype": "text/x-python",
   "name": "python",
   "nbconvert_exporter": "python",
   "pygments_lexer": "ipython3",
   "version": "3.12.4"
  }
 },
 "nbformat": 4,
 "nbformat_minor": 5
}
