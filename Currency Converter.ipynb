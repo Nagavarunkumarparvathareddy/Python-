{
 "cells": [
  {
   "cell_type": "code",
   "execution_count": 17,
   "id": "f2771b8e-2fd3-4576-aa0c-362e218ac1f6",
   "metadata": {},
   "outputs": [
    {
     "name": "stdout",
     "output_type": "stream",
     "text": [
      "Welcome to India to foreign currency converter\n",
      "Welcome to currency converter\n",
      "Select a number corresponding to country\n",
      "1. USA\n",
      "2. Canada\n",
      "3. UK\n",
      "4. Germany\n",
      "5. France\n",
      "6. Australia\n",
      "7. Japan\n",
      "8. UAE\n",
      "9. China\n",
      "10. Russia\n"
     ]
    },
    {
     "name": "stdin",
     "output_type": "stream",
     "text": [
      " 10\n"
     ]
    },
    {
     "name": "stdout",
     "output_type": "stream",
     "text": [
      "Selected rate: 0.95\n",
      "Enter the amount you need to convert into:\n"
     ]
    },
    {
     "name": "stdin",
     "output_type": "stream",
     "text": [
      " 100\n"
     ]
    },
    {
     "name": "stdout",
     "output_type": "stream",
     "text": [
      "Converted amount: 95.0\n"
     ]
    }
   ],
   "source": [
    "# print(\"Welcome to India to foreign currency converter\")\n",
    "print(\"Welcome to currency converter\\nSelect a number corresponding to country\\n1. USA\\n2. Canada\\n3. UK\\n4. Germany\\n5. France\\n6. Australia\\n7. Japan\\n8. UAE\\n9. China\\n10. Russia\")\n",
    "\n",
    "n = int(input())\n",
    "\n",
    "def case1():\n",
    "    return 83.48\n",
    "\n",
    "def case2():\n",
    "    return 61.26\n",
    "\n",
    "def case3():\n",
    "    return 107.19\n",
    "\n",
    "def case4():\n",
    "    return 90.53\n",
    "\n",
    "def case5():\n",
    "    return 90.53\n",
    "\n",
    "def case6():\n",
    "    return 56.35\n",
    "\n",
    "def case7():\n",
    "    return 0.52\n",
    "\n",
    "def case8():\n",
    "    return 22.73\n",
    "\n",
    "def case9():\n",
    "    return 0.087\n",
    "\n",
    "def case10():\n",
    "    return 0.95\n",
    "\n",
    "switch = {\n",
    "    1: case1,\n",
    "    2: case2,\n",
    "    3: case3,\n",
    "    4: case4,\n",
    "    5: case5,\n",
    "    6: case6,\n",
    "    7: case7,\n",
    "    8: case8,\n",
    "    9: case9,\n",
    "    10: case10,\n",
    "}\n",
    "\n",
    "if n in switch:\n",
    "    rate = switch[n]()\n",
    "    print(f\"Selected rate: {rate}\")\n",
    "else:\n",
    "    print(\"Invalid selection\")\n",
    "    rate = None\n",
    "\n",
    "if rate is not None:\n",
    "    print(\"Enter the amount you need to convert into:\")\n",
    "    m = float(input())\n",
    "    converted_amount = m * rate\n",
    "    print(f\"Converted amount: {converted_amount}\")\n"
   ]
  },
  {
   "cell_type": "code",
   "execution_count": null,
   "id": "e37e37bf-7b61-4592-a30b-1e27d4be358d",
   "metadata": {},
   "outputs": [],
   "source": []
  }
 ],
 "metadata": {
  "kernelspec": {
   "display_name": "Python 3 (ipykernel)",
   "language": "python",
   "name": "python3"
  },
  "language_info": {
   "codemirror_mode": {
    "name": "ipython",
    "version": 3
   },
   "file_extension": ".py",
   "mimetype": "text/x-python",
   "name": "python",
   "nbconvert_exporter": "python",
   "pygments_lexer": "ipython3",
   "version": "3.12.4"
  }
 },
 "nbformat": 4,
 "nbformat_minor": 5
}
