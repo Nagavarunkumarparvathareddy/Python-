{
 "cells": [
  {
   "cell_type": "code",
   "execution_count": 7,
   "id": "a57524bf-03cb-409a-abbe-c6b3d4d83de2",
   "metadata": {},
   "outputs": [
    {
     "name": "stdout",
     "output_type": "stream",
     "text": [
      "Fibonacci Series \n",
      "first Number = 0\n",
      "second Number = 1\n",
      "Third Number = first Number + second Number\n",
      "Fourth Number = Second Number + Third Number\n",
      ".......\n",
      "......\n",
      "Example:\n",
      "N=10\n",
      "_________________________________________\n",
      "|_0__1__1__2__3__5__8__13__21__34________|---> Fibonacci Series\n",
      "|_1__2__3__4__5__6__7__8___9___10________|---> sequence of Numbers\n",
      "====================================================================================================================================\n"
     ]
    },
    {
     "name": "stdin",
     "output_type": "stream",
     "text": [
      "Enter the position:  5\n"
     ]
    },
    {
     "name": "stdout",
     "output_type": "stream",
     "text": [
      "5\n"
     ]
    }
   ],
   "source": [
    "print(\"\"\"Fibonacci Series \n",
    "first Number = 0\n",
    "second Number = 1\n",
    "Third Number = first Number + second Number\n",
    "Fourth Number = Second Number + Third Number\n",
    ".......\n",
    "......\n",
    "Example:\n",
    "N=10\n",
    "_________________________________________\n",
    "|_1__1__2__3__5__8__13__21__34________|---> Fibonacci Series\n",
    "|_1__2__3__4__5__6__7__8___9___10________|---> sequence of Numbers\n",
    "====================================================================================================================================\"\"\")\n",
    "N = int(input(\"Enter the position: \"))\n",
    "if N == 0:\n",
    "    print(0)\n",
    "elif N == 1:\n",
    "    print(0)\n",
    "else:\n",
    "    first = 0\n",
    "    second = 1\n",
    "    for i in range(3, N + 1):\n",
    "        third = first + second\n",
    "        first = second\n",
    "        second = third\n",
    "    print(second)\n"
   ]
  },
  {
   "cell_type": "code",
   "execution_count": null,
   "id": "84600ef0-9b78-41db-93bc-6dd6746de8c0",
   "metadata": {},
   "outputs": [],
   "source": []
  }
 ],
 "metadata": {
  "kernelspec": {
   "display_name": "Python 3 (ipykernel)",
   "language": "python",
   "name": "python3"
  },
  "language_info": {
   "codemirror_mode": {
    "name": "ipython",
    "version": 3
   },
   "file_extension": ".py",
   "mimetype": "text/x-python",
   "name": "python",
   "nbconvert_exporter": "python",
   "pygments_lexer": "ipython3",
   "version": "3.12.4"
  }
 },
 "nbformat": 4,
 "nbformat_minor": 5
}
