{
 "cells": [
  {
   "cell_type": "code",
   "execution_count": 9,
   "id": "355de087-a817-425a-a487-cefbdd55a66c",
   "metadata": {},
   "outputs": [
    {
     "name": "stdin",
     "output_type": "stream",
     "text": [
      "Enter a number:  100\n"
     ]
    },
    {
     "name": "stdout",
     "output_type": "stream",
     "text": [
      "0 1 1 2 3 5 8 13 21 34 55 89 "
     ]
    }
   ],
   "source": [
    "n = int(input('Enter a number: '))\n",
    "first = 0\n",
    "second = 1\n",
    "print(first,second,end=' ')\n",
    "for i in range(0,n+1):\n",
    "    third = first + second\n",
    "    if third <= n:\n",
    "        print(third,end= ' ')\n",
    "        first = second\n",
    "        second = third"
   ]
  },
  {
   "cell_type": "code",
   "execution_count": null,
   "id": "1806158d-29a2-456b-820b-53edfdbe0ff2",
   "metadata": {},
   "outputs": [],
   "source": []
  }
 ],
 "metadata": {
  "kernelspec": {
   "display_name": "Python 3 (ipykernel)",
   "language": "python",
   "name": "python3"
  },
  "language_info": {
   "codemirror_mode": {
    "name": "ipython",
    "version": 3
   },
   "file_extension": ".py",
   "mimetype": "text/x-python",
   "name": "python",
   "nbconvert_exporter": "python",
   "pygments_lexer": "ipython3",
   "version": "3.12.4"
  }
 },
 "nbformat": 4,
 "nbformat_minor": 5
}
