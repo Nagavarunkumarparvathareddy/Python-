{
 "cells": [
  {
   "cell_type": "code",
   "execution_count": 8,
   "id": "e47ab883-538f-47bb-a1bc-a9f3b37650b7",
   "metadata": {},
   "outputs": [
    {
     "name": "stdin",
     "output_type": "stream",
     "text": [
      " 14\n",
      " 63\n"
     ]
    },
    {
     "data": {
      "text/plain": [
       "7"
      ]
     },
     "execution_count": 8,
     "metadata": {},
     "output_type": "execute_result"
    }
   ],
   "source": [
    "def gcd(m, n):\n",
    "    fm = []\n",
    "    for i in range(1, m+1):\n",
    "        if m % i == 0:\n",
    "            fm.append(i)\n",
    "    fn = []\n",
    "    for j in range(1, n+1):\n",
    "        if n % j == 0:\n",
    "            fn.append(j)\n",
    "    cf = []\n",
    "    for f in fm:\n",
    "        if f in fn:\n",
    "            cf.append(f)\n",
    "    return cf[-1]\n",
    "\n",
    "m = int(input())\n",
    "n = int(input())\n",
    "gcd(m, n)\n"
   ]
  },
  {
   "cell_type": "code",
   "execution_count": null,
   "id": "53f17506-d0b9-42c8-a0f2-6822bec37984",
   "metadata": {},
   "outputs": [],
   "source": []
  }
 ],
 "metadata": {
  "kernelspec": {
   "display_name": "Python 3 (ipykernel)",
   "language": "python",
   "name": "python3"
  },
  "language_info": {
   "codemirror_mode": {
    "name": "ipython",
    "version": 3
   },
   "file_extension": ".py",
   "mimetype": "text/x-python",
   "name": "python",
   "nbconvert_exporter": "python",
   "pygments_lexer": "ipython3",
   "version": "3.12.4"
  }
 },
 "nbformat": 4,
 "nbformat_minor": 5
}
