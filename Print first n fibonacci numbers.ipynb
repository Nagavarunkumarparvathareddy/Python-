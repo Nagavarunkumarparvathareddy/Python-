{
 "cells": [
  {
   "cell_type": "code",
   "execution_count": 2,
   "id": "924266d2-5d8e-4709-98b8-ac5395543974",
   "metadata": {},
   "outputs": [
    {
     "name": "stdin",
     "output_type": "stream",
     "text": [
      "Enter the number of Fibonacci numbers to print:  10\n"
     ]
    },
    {
     "name": "stdout",
     "output_type": "stream",
     "text": [
      "0 1 1 2 3 5 8 13 21 34 "
     ]
    }
   ],
   "source": [
    "n = int(input(\"Enter the number of Fibonacci numbers to print: \"))\n",
    "first = 0\n",
    "second = 1\n",
    "if n == 1:\n",
    "    print(first)\n",
    "elif n == 2:\n",
    "    print(first, second)\n",
    "else:\n",
    "    print(first, second, end=' ')\n",
    "    for i in range(2, n):  \n",
    "        third = first + second\n",
    "        print(third, end=' ')\n",
    "        first = second\n",
    "        second = third\n"
   ]
  },
  {
   "cell_type": "code",
   "execution_count": null,
   "id": "73fb1083-b9ee-42be-8845-3bd83a0b8e3d",
   "metadata": {},
   "outputs": [],
   "source": []
  }
 ],
 "metadata": {
  "kernelspec": {
   "display_name": "Python 3 (ipykernel)",
   "language": "python",
   "name": "python3"
  },
  "language_info": {
   "codemirror_mode": {
    "name": "ipython",
    "version": 3
   },
   "file_extension": ".py",
   "mimetype": "text/x-python",
   "name": "python",
   "nbconvert_exporter": "python",
   "pygments_lexer": "ipython3",
   "version": "3.12.4"
  }
 },
 "nbformat": 4,
 "nbformat_minor": 5
}
