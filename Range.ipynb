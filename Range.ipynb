{
 "cells": [
  {
   "cell_type": "code",
   "execution_count": 4,
   "id": "9f70e6cf-c85d-4433-b2ba-e99dab527ec0",
   "metadata": {
    "scrolled": true
   },
   "outputs": [
    {
     "name": "stdout",
     "output_type": "stream",
     "text": [
      "\n",
      "                ==============================================\n",
      "\t\t\t\t\tExamples of range \n",
      "\t\t\t\t==============================================\n",
      "Q1) 0  1  2  3   4   5   6   7  8   9  10\n",
      "\n",
      "Q2) 10  11  12  13  14  15\n",
      "\n",
      "Q3) -1 -2 -3 -4 -5 -6 -7 -8 -9 -10\n",
      "\n",
      "Q4) 10  12  14  16  18  20\n",
      "\n",
      "Q5) -10  -15 -20  -25 -30 -35 -40  -45 -50\n",
      "\n",
      "Q6)  -10  -9  -8  -7  -6  -5 -4  -3 -2 -1\n",
      "\n",
      "Q7) 50  40  30  20  10  0\n",
      "\n",
      "Q8)  -20  -15  -10  -5   0\n",
      "\n",
      "Q9) 1000  750  500 250  0\n",
      "\n",
      "Q10)  -5  -4  -3  -2  -1  0   1  2  3  4\n",
      "=======================================x=======================================\n",
      "\n"
     ]
    }
   ],
   "source": [
    "print(\"\"\"\n",
    "                ==============================================\n",
    "\t\t\t\t\tExamples of range \n",
    "\t\t\t\t==============================================\n",
    "Q1) 0  1  2  3   4   5   6   7  8   9  10\n",
    "\n",
    "Q2) 10  11  12  13  14  15\n",
    "\n",
    "Q3) -1 -2 -3 -4 -5 -6 -7 -8 -9 -10\n",
    "\n",
    "Q4) 10  12  14  16  18  20\n",
    "\n",
    "Q5) -10  -15 -20  -25 -30 -35 -40  -45 -50\n",
    "\n",
    "Q6)  -10  -9  -8  -7  -6  -5 -4  -3 -2 -1\n",
    "\n",
    "Q7) 50  40  30  20  10  0\n",
    "\n",
    "Q8)  -20  -15  -10  -5   0\n",
    "\n",
    "Q9) 1000  750  500 250  0\n",
    "\n",
    "Q10)  -5  -4  -3  -2  -1  0   1  2  3  4\n",
    "=======================================x=======================================\n",
    "\"\"\")"
   ]
  },
  {
   "cell_type": "code",
   "execution_count": 40,
   "id": "3d1e5e50-b9ff-414b-9a6f-4dad75a620f1",
   "metadata": {},
   "outputs": [
    {
     "name": "stdout",
     "output_type": "stream",
     "text": [
      "0 1 2 3 4 5 6 7 8 9 10 "
     ]
    }
   ],
   "source": [
    "for i in range(11):\n",
    "    print(i,end=\" \")"
   ]
  },
  {
   "cell_type": "code",
   "execution_count": 6,
   "id": "1599eb25-3c0d-4586-82ed-8f84691b07fc",
   "metadata": {},
   "outputs": [
    {
     "name": "stdout",
     "output_type": "stream",
     "text": [
      "10 11 12 13 14 15 "
     ]
    }
   ],
   "source": [
    "for i in range(10,16):\n",
    "    print(i,end=\" \")"
   ]
  },
  {
   "cell_type": "code",
   "execution_count": 30,
   "id": "692bee5b-1462-43ee-8105-6532bda5e9ae",
   "metadata": {},
   "outputs": [
    {
     "name": "stdout",
     "output_type": "stream",
     "text": [
      "-1 -2 -3 -4 -5 -6 -7 -8 -9 -10 "
     ]
    }
   ],
   "source": [
    "for i in range(-1,-11,-1):\n",
    "    print(i,end=\" \")"
   ]
  },
  {
   "cell_type": "code",
   "execution_count": 31,
   "id": "e61c88ed-88ab-4d5b-a15a-4293ed45d340",
   "metadata": {},
   "outputs": [
    {
     "name": "stdout",
     "output_type": "stream",
     "text": [
      "10 12 14 16 18 20 "
     ]
    }
   ],
   "source": [
    "for i in range(10,21,2):\n",
    "    print(i,end=\" \")"
   ]
  },
  {
   "cell_type": "code",
   "execution_count": 32,
   "id": "360fed28-02ae-48d3-ad3d-de224c486813",
   "metadata": {},
   "outputs": [
    {
     "name": "stdout",
     "output_type": "stream",
     "text": [
      "-10 -15 -20 -25 -30 -35 -40 -45 -50 "
     ]
    }
   ],
   "source": [
    "for i in range(-10,-51,-5):\n",
    "    print(i,end=\" \")"
   ]
  },
  {
   "cell_type": "code",
   "execution_count": 33,
   "id": "3fb1891b-6173-41f4-9643-fe3d9246a0d0",
   "metadata": {},
   "outputs": [
    {
     "name": "stdout",
     "output_type": "stream",
     "text": [
      "-10 -9 -8 -7 -6 -5 -4 -3 -2 -1 "
     ]
    }
   ],
   "source": [
    "for i in range(-10,0,1):\n",
    "    print(i,end=\" \")"
   ]
  },
  {
   "cell_type": "code",
   "execution_count": 38,
   "id": "7a794889-2c6e-4a2a-a6c8-f0cbaa042f20",
   "metadata": {},
   "outputs": [
    {
     "name": "stdout",
     "output_type": "stream",
     "text": [
      "50 40 30 20 10 0 "
     ]
    }
   ],
   "source": [
    "for i in range(50,-1,-10):\n",
    "    print(i,end=\" \")"
   ]
  },
  {
   "cell_type": "code",
   "execution_count": 41,
   "id": "d30b78f6-6e3e-43d0-8f45-e098d663ee2c",
   "metadata": {},
   "outputs": [
    {
     "name": "stdout",
     "output_type": "stream",
     "text": [
      "-20 -15 -10 -5 0 "
     ]
    }
   ],
   "source": [
    "for i in range(-20,1,5):\n",
    "    print(i,end=\" \")"
   ]
  },
  {
   "cell_type": "code",
   "execution_count": 44,
   "id": "e2f6784d-83e0-4c09-9bb4-e6964404b389",
   "metadata": {},
   "outputs": [
    {
     "name": "stdout",
     "output_type": "stream",
     "text": [
      "1000 750 500 250 0 "
     ]
    }
   ],
   "source": [
    "for i in range(1000,-1,-250):\n",
    "    print(i,end=\" \")"
   ]
  },
  {
   "cell_type": "code",
   "execution_count": 46,
   "id": "69280fce-1f88-4df2-9f19-b4c30510aec6",
   "metadata": {},
   "outputs": [
    {
     "name": "stdout",
     "output_type": "stream",
     "text": [
      "-5 -4 -3 -2 -1 0 1 2 3 4 5 "
     ]
    }
   ],
   "source": [
    "for i in range(-5,6,1):\n",
    "    print(i,end=\" \")"
   ]
  },
  {
   "cell_type": "code",
   "execution_count": null,
   "id": "a5c9b011-3392-4a2c-962e-a03c454b5235",
   "metadata": {},
   "outputs": [],
   "source": []
  }
 ],
 "metadata": {
  "kernelspec": {
   "display_name": "Python 3 (ipykernel)",
   "language": "python",
   "name": "python3"
  },
  "language_info": {
   "codemirror_mode": {
    "name": "ipython",
    "version": 3
   },
   "file_extension": ".py",
   "mimetype": "text/x-python",
   "name": "python",
   "nbconvert_exporter": "python",
   "pygments_lexer": "ipython3",
   "version": "3.12.4"
  }
 },
 "nbformat": 4,
 "nbformat_minor": 5
}
